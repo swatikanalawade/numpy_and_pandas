{
 "cells": [
  {
   "cell_type": "code",
   "execution_count": 56,
   "id": "9759fe75",
   "metadata": {},
   "outputs": [],
   "source": [
    "import numpy as np"
   ]
  },
  {
   "cell_type": "code",
   "execution_count": 57,
   "id": "81710c1b",
   "metadata": {},
   "outputs": [
    {
     "name": "stdout",
     "output_type": "stream",
     "text": [
      "(10,)\n",
      "1\n",
      "int32\n",
      "10\n"
     ]
    }
   ],
   "source": [
    "# convert python list to numpy array and use its method.\n",
    "l=[i*10 for i in range(10)]\n",
    "np_array = np.array(l)\n",
    "print(np_array.shape)\n",
    "print(np_array.ndim)\n",
    "print(np_array.dtype)\n",
    "print(np_array.size)"
   ]
  },
  {
   "cell_type": "code",
   "execution_count": 58,
   "id": "2c587102",
   "metadata": {},
   "outputs": [
    {
     "name": "stdout",
     "output_type": "stream",
     "text": [
      "[0.22733602 0.31675834 0.79736546 0.67625467 0.39110955 0.33281393\n",
      " 0.59830875 0.18673419 0.67275604 0.94180287]\n",
      "[7.34740965 5.96849691 4.24061282 5.90219827 4.53304683 4.93931048\n",
      " 5.78884434 3.74333187 5.57585751 6.39897899]\n"
     ]
    }
   ],
   "source": [
    "#creating a random array values\n",
    "from numpy.random import default_rng\n",
    "rng = default_rng(12345)\n",
    "print(rng.random(10))\n",
    "mean,stddev=5,1\n",
    "print(rng.normal(mean,stddev,size=10))"
   ]
  },
  {
   "cell_type": "code",
   "execution_count": 67,
   "id": "4725c585",
   "metadata": {},
   "outputs": [
    {
     "name": "stdout",
     "output_type": "stream",
     "text": [
      "[[ 10.  20.]\n",
      " [ 30.  40.]\n",
      " [ 50.  60.]\n",
      " [ 70.  80.]\n",
      " [ 90. 100.]]\n",
      "[[ 10  20]\n",
      " [ 30  40]\n",
      " [ 50  60]\n",
      " [ 70  80]\n",
      " [ 90 100]]\n",
      "[[0.60839931 0.3624512  0.83917698]\n",
      " [0.9818088  0.88220989 0.62168415]\n",
      " [0.54135022 0.72309846 0.30217268]]\n"
     ]
    }
   ],
   "source": [
    "#create array using numpy of 5 rowa nd 2 columns.\n",
    "#create random ra with (3,3) shape\n",
    "import numpy as np\n",
    "from numpy.random import default_rng\n",
    "np_array1=np.linspace(10,100,10).reshape(5,2)\n",
    "print(np_array1)\n",
    "#or\n",
    "np_array2=np.arange(10,101,10).reshape(5,2)\n",
    "print(np_array2)\n",
    "rng_array= default_rng()\n",
    "random_array=rng_array.random(9).reshape(3,3)\n",
    "print(random_array)\n",
    "\n"
   ]
  },
  {
   "cell_type": "code",
   "execution_count": 100,
   "id": "47eab51d",
   "metadata": {},
   "outputs": [
    {
     "name": "stdout",
     "output_type": "stream",
     "text": [
      "[[0 1 2]\n",
      " [3 4 5]\n",
      " [6 7 8]]\n",
      "[0 3 6]\n",
      "7\n"
     ]
    }
   ],
   "source": [
    "#print first 2 rows\n",
    "#print first column\n",
    "#print 2nd element of 3rd row\n",
    "import numpy as np\n",
    "np_arr=np.arange(9).reshape(3,3)\n",
    "print(np_arr)\n",
    "#arr[row,column]\n",
    "#print(np_arr[:2,:3])\n",
    "print(np_arr[:,0])\n",
    "print(np_arr[2,1])\n",
    "\n"
   ]
  },
  {
   "cell_type": "code",
   "execution_count": 118,
   "id": "7f4569ab",
   "metadata": {},
   "outputs": [
    {
     "name": "stdout",
     "output_type": "stream",
     "text": [
      "[10.99  9.99 11.7  12.  ]\n",
      "129.99020000000002\n"
     ]
    }
   ],
   "source": [
    "# add 5 to to all customer data amount\n",
    "import numpy as np\n",
    "cust_data = np.array([5.99,4.99,6.7,7])\n",
    "print(cust_data+5)\n",
    "d=cust_data-1\n",
    "print((d*cust_data).sum())\n"
   ]
  },
  {
   "cell_type": "code",
   "execution_count": 117,
   "id": "985eadb8",
   "metadata": {},
   "outputs": [
    {
     "name": "stdout",
     "output_type": "stream",
     "text": [
      "6\n"
     ]
    }
   ],
   "source": []
  },
  {
   "cell_type": "code",
   "execution_count": 4,
   "id": "749b3d8d",
   "metadata": {},
   "outputs": [
    {
     "name": "stdout",
     "output_type": "stream",
     "text": [
      "[5 0 0 0]\n"
     ]
    }
   ],
   "source": [
    "#filtering(using operators and where)\n",
    "#filter product list to only incluse price >25\n",
    "import numpy as np\n",
    "product=np.array([\"tomato\",\"cola\",\"icecream\",\"cake\"])\n",
    "price= np.array([10,150,50,100])\n",
    "print(product[(price>25)])\n",
    "\n",
    "mask =(price > 25) | (product == \"cola\")\n",
    "print(product[mask])\n",
    "\n",
    "shipping_cost=np.where(price>20,0,5)\n",
    "print(shipping_cost)"
   ]
  },
  {
   "cell_type": "code",
   "execution_count": 30,
   "id": "b30bf708",
   "metadata": {},
   "outputs": [
    {
     "name": "stdout",
     "output_type": "stream",
     "text": [
      "1\n",
      "14\n",
      "7.5\n",
      "[ 1  2  3  4  5  6  7  8  9 10 11 12 13 14]\n",
      "[ 1  2  3  4  5  6  7  8  9 10 11 12 13 14]\n"
     ]
    }
   ],
   "source": [
    "#agregate Funcions(sum,min,max,mean),Array Functions(median,percentile,unique,sqrt),\n",
    "#sort method\n",
    "import numpy as np\n",
    "price=np.arange(1,15)\n",
    "minimum_price = min(price)\n",
    "print(minimum_price)\n",
    "maximum_price=max(price)\n",
    "print(maximum_price)\n",
    "median_price = np.median(price)\n",
    "print(median_price)\n",
    "sort_array=np.sort(price)\n",
    "print(sort_array)\n",
    "print(np.unique(price))"
   ]
  },
  {
   "cell_type": "code",
   "execution_count": null,
   "id": "75bc2786",
   "metadata": {},
   "outputs": [],
   "source": [
    "## vectorization and broadcasting\n",
    "#vectorization-is the process of pushing array operations into optimized c code, which is easier and more efficient than writing for loops\n",
    "#broadcasting-lets u perform vectorized operations with arrays of different sizes. where numpy will expand the smaller array to 'fit' the larger one\n",
    "#numpy arrays are semi-mutable and we can modify values but we cant modify its size"
   ]
  }
 ],
 "metadata": {
  "kernelspec": {
   "display_name": "Python 3 (ipykernel)",
   "language": "python",
   "name": "python3"
  },
  "language_info": {
   "codemirror_mode": {
    "name": "ipython",
    "version": 3
   },
   "file_extension": ".py",
   "mimetype": "text/x-python",
   "name": "python",
   "nbconvert_exporter": "python",
   "pygments_lexer": "ipython3",
   "version": "3.10.2"
  }
 },
 "nbformat": 4,
 "nbformat_minor": 5
}
